{
 "cells": [
  {
   "cell_type": "code",
   "execution_count": 1,
   "metadata": {},
   "outputs": [
    {
     "name": "stderr",
     "output_type": "stream",
     "text": [
      "/Users/zhangjunjie/anaconda3/envs/pj/lib/python3.7/site-packages/tensorflow/python/framework/dtypes.py:526: FutureWarning: Passing (type, 1) or '1type' as a synonym of type is deprecated; in a future version of numpy, it will be understood as (type, (1,)) / '(1,)type'.\n",
      "  _np_qint8 = np.dtype([(\"qint8\", np.int8, 1)])\n",
      "/Users/zhangjunjie/anaconda3/envs/pj/lib/python3.7/site-packages/tensorflow/python/framework/dtypes.py:527: FutureWarning: Passing (type, 1) or '1type' as a synonym of type is deprecated; in a future version of numpy, it will be understood as (type, (1,)) / '(1,)type'.\n",
      "  _np_quint8 = np.dtype([(\"quint8\", np.uint8, 1)])\n",
      "/Users/zhangjunjie/anaconda3/envs/pj/lib/python3.7/site-packages/tensorflow/python/framework/dtypes.py:528: FutureWarning: Passing (type, 1) or '1type' as a synonym of type is deprecated; in a future version of numpy, it will be understood as (type, (1,)) / '(1,)type'.\n",
      "  _np_qint16 = np.dtype([(\"qint16\", np.int16, 1)])\n",
      "/Users/zhangjunjie/anaconda3/envs/pj/lib/python3.7/site-packages/tensorflow/python/framework/dtypes.py:529: FutureWarning: Passing (type, 1) or '1type' as a synonym of type is deprecated; in a future version of numpy, it will be understood as (type, (1,)) / '(1,)type'.\n",
      "  _np_quint16 = np.dtype([(\"quint16\", np.uint16, 1)])\n",
      "/Users/zhangjunjie/anaconda3/envs/pj/lib/python3.7/site-packages/tensorflow/python/framework/dtypes.py:530: FutureWarning: Passing (type, 1) or '1type' as a synonym of type is deprecated; in a future version of numpy, it will be understood as (type, (1,)) / '(1,)type'.\n",
      "  _np_qint32 = np.dtype([(\"qint32\", np.int32, 1)])\n",
      "/Users/zhangjunjie/anaconda3/envs/pj/lib/python3.7/site-packages/tensorflow/python/framework/dtypes.py:535: FutureWarning: Passing (type, 1) or '1type' as a synonym of type is deprecated; in a future version of numpy, it will be understood as (type, (1,)) / '(1,)type'.\n",
      "  np_resource = np.dtype([(\"resource\", np.ubyte, 1)])\n",
      "RDKit WARNING: [11:52:50] Enabling RDKit 2019.09.1 jupyter extensions\n"
     ]
    }
   ],
   "source": [
    "import tensorflow as tf\n",
    "import numpy as np\n",
    "from data import load_data"
   ]
  },
  {
   "cell_type": "code",
   "execution_count": 2,
   "metadata": {},
   "outputs": [
    {
     "name": "stderr",
     "output_type": "stream",
     "text": [
      "RDKit ERROR: [11:53:53] Explicit valence for atom # 3 Si, 8, is greater than permitted\n",
      "RDKit WARNING: [11:53:54] WARNING: not removing hydrogen atom without neighbors\n",
      "RDKit ERROR: [11:53:54] Explicit valence for atom # 3 Si, 8, is greater than permitted\n",
      "RDKit ERROR: [11:53:55] Explicit valence for atom # 0 Cl, 2, is greater than permitted\n",
      "RDKit ERROR: [11:53:56] Explicit valence for atom # 2 Cl, 2, is greater than permitted\n",
      "RDKit ERROR: [11:53:58] Explicit valence for atom # 7 Mg, 4, is greater than permitted\n",
      "RDKit ERROR: [11:54:06] Explicit valence for atom # 20 O, 3, is greater than permitted\n"
     ]
    }
   ],
   "source": [
    "BatchSize = 50\n",
    "train_C, train_feature, train_y = load_data('train')\n",
    "valid_C, valid_feature,valid_y= load_data('validation')"
   ]
  },
  {
   "cell_type": "code",
   "execution_count": 22,
   "metadata": {},
   "outputs": [
    {
     "name": "stdout",
     "output_type": "stream",
     "text": [
      "INFO:tensorflow:Restoring parameters from ./weights/model\n"
     ]
    }
   ],
   "source": [
    "sess = tf.Session()\n",
    "#load moedel\n",
    "saver = tf.train.import_meta_graph(\"./weights/model.meta\")\n",
    "saver.restore(sess, './weights/model')\n",
    "graph = tf.get_default_graph()"
   ]
  },
  {
   "cell_type": "code",
   "execution_count": 23,
   "metadata": {},
   "outputs": [],
   "source": [
    "train_output = sess.run('output/BiasAdd:0',{'input:0': train_feature,'C:0': train_C})\n",
    "train_pred = np.argmax(train_output, axis=1)\n",
    "valid_output = sess.run('output/BiasAdd:0',{'input:0': valid_feature,'C:0': valid_C})\n",
    "valid_pred = np.argmax(valid_output, axis=1)\n",
    "sess.close()"
   ]
  },
  {
   "cell_type": "code",
   "execution_count": 14,
   "metadata": {},
   "outputs": [],
   "source": [
    "from sklearn.metrics import accuracy_score,recall_score,precision_score"
   ]
  },
  {
   "cell_type": "code",
   "execution_count": 24,
   "metadata": {},
   "outputs": [
    {
     "name": "stdout",
     "output_type": "stream",
     "text": [
      "acurracy 0.9116218457528729\n",
      "banlanced acurracy 0.6543738895188378\n",
      "f1 score 0.325282085421658\n"
     ]
    }
   ],
   "source": [
    "a_t = accuracy_score(train_y,train_pred)\n",
    "r_t = recall_score(train_y,train_pred)\n",
    "p_t = precision_score(train_y,train_pred)\n",
    "a_v = accuracy_score(valid_y,valid_pred)\n",
    "r_v = recall_score(valid_y,valid_pred)\n",
    "p_v = precision_score(valid_y,valid_pred)\n",
    "a = (a_t*train_y.shape[0]+a_v*valid_y.shape[0])/(train_y.shape[0]+valid_y.shape[0])\n",
    "r = (r_t*train_y.shape[0]+r_v*valid_y.shape[0])/(train_y.shape[0]+valid_y.shape[0])\n",
    "p = (p_t*train_y.shape[0]+p_v*valid_y.shape[0])/(train_y.shape[0]+valid_y.shape[0])\n",
    "a_ban = 1/2*(p+r)\n",
    "f1 = p*r/(p+r)\n",
    "print(\"acurracy\",a)\n",
    "print(\"banlanced acurracy\",a_ban)\n",
    "print(\"f1 score\",f1)"
   ]
  },
  {
   "cell_type": "raw",
   "metadata": {},
   "source": []
  },
  {
   "cell_type": "code",
   "execution_count": 17,
   "metadata": {},
   "outputs": [
    {
     "data": {
      "text/plain": [
       "0.9138205410698984"
      ]
     },
     "execution_count": 17,
     "metadata": {},
     "output_type": "execute_result"
    }
   ],
   "source": [
    "accuracy_score(train_y,train_pred)"
   ]
  },
  {
   "cell_type": "code",
   "execution_count": 19,
   "metadata": {},
   "outputs": [
    {
     "data": {
      "text/plain": [
       "8169"
      ]
     },
     "execution_count": 19,
     "metadata": {},
     "output_type": "execute_result"
    }
   ],
   "source": [
    "train_y.shape[0]"
   ]
  },
  {
   "cell_type": "code",
   "execution_count": null,
   "metadata": {},
   "outputs": [],
   "source": []
  }
 ],
 "metadata": {
  "kernelspec": {
   "display_name": "Python 3",
   "language": "python",
   "name": "python3"
  },
  "language_info": {
   "codemirror_mode": {
    "name": "ipython",
    "version": 3
   },
   "file_extension": ".py",
   "mimetype": "text/x-python",
   "name": "python",
   "nbconvert_exporter": "python",
   "pygments_lexer": "ipython3",
   "version": "3.7.5"
  }
 },
 "nbformat": 4,
 "nbformat_minor": 2
}
